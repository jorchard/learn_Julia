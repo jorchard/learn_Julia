{
 "cells": [
  {
   "cell_type": "markdown",
   "metadata": {},
   "source": [
    "# Jeff is learning to program in Julia!"
   ]
  },
  {
   "cell_type": "code",
   "execution_count": 1,
   "metadata": {},
   "outputs": [],
   "source": [
    "struct AbstractDataSet\n",
    "    n::Int\n",
    "    x::Matrix{<:Number}\n",
    "    t::Matrix{<:Number}\n",
    "end"
   ]
  },
  {
   "cell_type": "code",
   "execution_count": 2,
   "metadata": {},
   "outputs": [
    {
     "ename": "LoadError",
     "evalue": "invalid subtyping in definition of DiscreteMapping",
     "output_type": "error",
     "traceback": [
      "invalid subtyping in definition of DiscreteMapping",
      "",
      "Stacktrace:",
      " [1] top-level scope",
      "   @ In[2]:1",
      " [2] eval",
      "   @ ./boot.jl:368 [inlined]",
      " [3] include_string(mapexpr::typeof(REPL.softscope), mod::Module, code::String, filename::String)",
      "   @ Base ./loading.jl:1428"
     ]
    }
   ],
   "source": [
    "struct DiscreteMapping <: AbstractDataSet\n",
    "    A::Matrix{<:Number}\n",
    "    B::Matrix{<:Number}\n",
    "end"
   ]
  },
  {
   "cell_type": "code",
   "execution_count": null,
   "metadata": {},
   "outputs": [],
   "source": []
  }
 ],
 "metadata": {
  "kernelspec": {
   "display_name": "Julia 1.8.0",
   "language": "julia",
   "name": "julia-1.8"
  },
  "language_info": {
   "file_extension": ".jl",
   "mimetype": "application/julia",
   "name": "julia",
   "version": "1.8.0"
  }
 },
 "nbformat": 4,
 "nbformat_minor": 4
}
