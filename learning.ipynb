{
 "cells": [
  {
   "cell_type": "markdown",
   "metadata": {},
   "source": [
    "# Jeff is learning to program in Julia!"
   ]
  },
  {
   "cell_type": "code",
   "execution_count": 1,
   "metadata": {},
   "outputs": [],
   "source": [
    "abstract type AbstractPerson end\n",
    "abstract type AbstractStudent <: AbstractPerson end\n",
    "abstract type AbstractTeacher <: AbstractPerson end"
   ]
  },
  {
   "cell_type": "code",
   "execution_count": 2,
   "metadata": {},
   "outputs": [
    {
     "data": {
      "text/plain": [
       "printname (generic function with 1 method)"
      ]
     },
     "execution_count": 2,
     "metadata": {},
     "output_type": "execute_result"
    }
   ],
   "source": [
    "function printname(p::AbstractPerson)\n",
    "    println(p.name)\n",
    "end"
   ]
  },
  {
   "cell_type": "markdown",
   "metadata": {},
   "source": [
    "## No nesting of types"
   ]
  },
  {
   "cell_type": "code",
   "execution_count": 3,
   "metadata": {},
   "outputs": [
    {
     "name": "stdout",
     "output_type": "stream",
     "text": [
      "Jeff\n",
      "Russell\n"
     ]
    }
   ],
   "source": [
    "struct Person <: AbstractPerson\n",
    "    name::String\n",
    "end\n",
    "\n",
    "struct Student <: AbstractPerson\n",
    "    name::String   # !!!!! name has no relationship to Person.name !!!!!\n",
    "    grade::Int\n",
    "    hobby::String\n",
    "end\n",
    "\n",
    "jeff = Person(\"Jeff\")\n",
    "russell = Student(\"Russell\", 94, \"cycling\")\n",
    "\n",
    "printname(jeff)\n",
    "printname(russell)"
   ]
  },
  {
   "cell_type": "markdown",
   "metadata": {},
   "source": [
    "## Nesting of types"
   ]
  },
  {
   "cell_type": "code",
   "execution_count": 4,
   "metadata": {},
   "outputs": [
    {
     "name": "stdout",
     "output_type": "stream",
     "text": [
      "Jeff\n",
      "Russell\n"
     ]
    }
   ],
   "source": [
    "struct Person2 <: AbstractPerson\n",
    "    name::String\n",
    "end\n",
    "\n",
    "struct Student2 <: AbstractPerson\n",
    "    p::Person2     # Since a Student2 is a Person2\n",
    "    name::String   # pointer to p.name\n",
    "    grade::Int\n",
    "    hobby::String\n",
    "end\n",
    "\n",
    "# Constructor for Student2 that sets up the Person2 object\n",
    "# and points name to p.name.\n",
    "function createStudent2(name::String, grade::Int, hobby::String)\n",
    "    p = Person2(name)\n",
    "    Student2(p, p.name, grade, hobby)\n",
    "end\n",
    "\n",
    "jeff = Person2(\"Jeff\")\n",
    "russell = createStudent2(\"Russell\", 94, \"cycling\")\n",
    "\n",
    "printname(jeff)\n",
    "printname(russell)"
   ]
  },
  {
   "cell_type": "code",
   "execution_count": 5,
   "metadata": {},
   "outputs": [
    {
     "name": "stdout",
     "output_type": "stream",
     "text": [
      "Ptr{Nothing} @0x000000010daa0b08\n",
      "Ptr{Nothing} @0x000000010daa0b08\n"
     ]
    }
   ],
   "source": [
    "# name and p.name point to the same String\n",
    "println(pointer_from_objref(russell.name))\n",
    "println(pointer_from_objref(russell.p.name))"
   ]
  },
  {
   "cell_type": "code",
   "execution_count": null,
   "metadata": {},
   "outputs": [],
   "source": []
  }
 ],
 "metadata": {
  "kernelspec": {
   "display_name": "Julia 1.8.0",
   "language": "julia",
   "name": "julia-1.8"
  },
  "language_info": {
   "file_extension": ".jl",
   "mimetype": "application/julia",
   "name": "julia",
   "version": "1.8.0"
  }
 },
 "nbformat": 4,
 "nbformat_minor": 4
}
