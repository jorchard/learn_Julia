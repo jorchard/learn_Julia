{
 "cells": [
  {
   "cell_type": "markdown",
   "metadata": {},
   "source": [
    "# Resonator network"
   ]
  },
  {
   "cell_type": "code",
   "execution_count": 1,
   "metadata": {},
   "outputs": [],
   "source": [
    "using Plots, Images\n",
    "using LinearAlgebra"
   ]
  },
  {
   "cell_type": "code",
   "execution_count": 2,
   "metadata": {},
   "outputs": [
    {
     "data": {
      "text/plain": [
       "rescale01 (generic function with 1 method)"
      ]
     },
     "execution_count": 2,
     "metadata": {},
     "output_type": "execute_result"
    }
   ],
   "source": [
    "function rescale01(M::AbstractArray)\n",
    "    maxabs = maximum(abs.(M))\n",
    "    (M.+maxabs)./(2*maxabs)\n",
    "end"
   ]
  },
  {
   "cell_type": "code",
   "execution_count": 3,
   "metadata": {},
   "outputs": [
    {
     "data": {
      "text/plain": [
       "colnormalize! (generic function with 1 method)"
      ]
     },
     "execution_count": 3,
     "metadata": {},
     "output_type": "execute_result"
    }
   ],
   "source": [
    "colnorm(A::Matrix{<:Number}) = [norm(A[:,k]) for k=1:size(A,2)]\n",
    "\n",
    "function colnormalize!(A::Matrix{<:Number})\n",
    "    for k = 1:size(A,2)\n",
    "        A[:,k] = normalize(A[:,k])\n",
    "    end\n",
    "end"
   ]
  },
  {
   "cell_type": "code",
   "execution_count": 47,
   "metadata": {},
   "outputs": [
    {
     "data": {
      "image/png": "[encoded data removed]",
      "text/html": [
       "<img src=\"data:image/png;base64,iVBORw0KGgoAAAANSUhEUgAAAJoAAABCCAAAAACK+ZCJAAAABGdBTUEAALGPC/xhBQAAAAFzUkdCAK7OHOkAAAAgY0hSTQAAeiYAAICEAAD6AAAAgOgAAHUwAADqYAAAOpgAABdwnLpRPAAAALZJREFUaAXNwSF5AgAABtETl2AeuRwzq4DE8C3G9EpMTdMBQQCKYLC4FfgD3HseWS4sV5Z3lhPLB8uDRbIkS7IkS7IkS7IkS7IkS7IkS7IkS7IkS7IkS7IkS7K8sdxZniw/LC+WL5Y/FsmSLMmSLMmSLMmSLMmSLMmSLMmSLMmSLMmSLMmSLMnyl+XA8mL5ZPlmObO8sUiWZEmWZEmWZEmWZEmWZEmWZEmWZEmWZEmWZEmWZEnWP/pDDFxYAgeIAAAAAElFTkSuQmCC\">"
      ],
      "text/plain": [
       "3×7 Array{Gray{Float64},2} with eltype Gray{Float64}:\n",
       " Gray{Float64}(0.333231)   …  Gray{Float64}(0.415071)\n",
       " Gray{Float64}(0.0903802)     Gray{Float64}(0.518307)\n",
       " Gray{Float64}(0.698805)      Gray{Float64}(0.350809)"
      ]
     },
     "execution_count": 47,
     "metadata": {},
     "output_type": "execute_result"
    }
   ],
   "source": [
    "N = 7\n",
    "D = 3\n",
    "A = randn(N,D);\n",
    "colnormalize!(A)\n",
    "Apinv = pinv(A)\n",
    "\n",
    "Gray.(rescale01(A)')"
   ]
  },
  {
   "cell_type": "code",
   "execution_count": 48,
   "metadata": {},
   "outputs": [
    {
     "data": {
      "text/plain": [
       "3×3 Matrix{Float64}:\n",
       "  1.0         0.0113158  -0.346121\n",
       "  0.0113158   1.0        -0.176325\n",
       " -0.346121   -0.176325    1.0"
      ]
     },
     "metadata": {},
     "output_type": "display_data"
    }
   ],
   "source": [
    "display(A'*A)"
   ]
  },
  {
   "cell_type": "code",
   "execution_count": 78,
   "metadata": {},
   "outputs": [],
   "source": [
    "t0 = normalize(randn(N))\n",
    "t0 = A[:,rand(1:size(A,2))] + randn(size(A,1))/10\n",
    "t1 = deepcopy(t0);"
   ]
  },
  {
   "cell_type": "code",
   "execution_count": 79,
   "metadata": {},
   "outputs": [
    {
     "data": {
      "text/plain": [
       "3-element Vector{Float64}:\n",
       " -0.13619427966415645\n",
       "  0.050021966237926783\n",
       "  0.8810777107971667"
      ]
     },
     "execution_count": 79,
     "metadata": {},
     "output_type": "execute_result"
    }
   ],
   "source": [
    "Apinv*t1"
   ]
  },
  {
   "cell_type": "code",
   "execution_count": 80,
   "metadata": {},
   "outputs": [
    {
     "name": "stdout",
     "output_type": "stream",
     "text": [
      "[-0.13619427966415645 0.050021966237926783 0.8810777107971667]\n",
      "[-0.14646071206854827 0.053792661573904034 0.947494044752022]\n",
      "[-0.14646071206854805 0.05379266157390381 0.947494044752022]\n",
      "[-0.14646071206854785 0.053792661573903604 0.9474940447520223]\n",
      "[-0.14646071206854758 0.05379266157390327 0.9474940447520221]\n"
     ]
    }
   ],
   "source": [
    "for n = 1:5\n",
    "    println((Apinv*t1)')\n",
    "    t1 = normalize(A*(pinv(A)*t1))\n",
    "end"
   ]
  },
  {
   "cell_type": "code",
   "execution_count": 41,
   "metadata": {},
   "outputs": [
    {
     "data": {
      "text/plain": [
       "3-element Vector{Float64}:\n",
       " 0.4265896775630394\n",
       " 0.7435430734801733\n",
       " 0.030821471124540506"
      ]
     },
     "execution_count": 41,
     "metadata": {},
     "output_type": "execute_result"
    }
   ],
   "source": [
    "A'*t1"
   ]
  },
  {
   "cell_type": "code",
   "execution_count": null,
   "metadata": {},
   "outputs": [],
   "source": []
  }
 ],
 "metadata": {
  "kernelspec": {
   "display_name": "Julia 1.8.0",
   "language": "julia",
   "name": "julia-1.8"
  },
  "language_info": {
   "file_extension": ".jl",
   "mimetype": "application/julia",
   "name": "julia",
   "version": "1.8.0"
  }
 },
 "nbformat": 4,
 "nbformat_minor": 4
}
